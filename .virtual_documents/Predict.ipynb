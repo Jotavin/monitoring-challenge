import joblib
import pandas as pd
from sklearn.preprocessing import StandardScaler
from sklearn.linear_model import LinearRegression


model_denied, expected_features = joblib.load('regression_model_failed_with_scaler.pkl')
# model_failed = joblib.load('regression_model_failed.pkl')


data = pd.read_csv('transactions_1.csv')
data.head(3)


pivot_new_df = data.pivot_table(index='time', columns='status', values='f0_', fill_value=0)
pivot_new_df.head(3)


time_dummies_new_df = pd.get_dummies(pivot_new_df.reset_index(), columns=['time'])
time_dummies_new_df.head(3)


columns_to_scale_new = [col for col in time_dummies_new_df.columns if col != 'time']

scaled_new_data = expected_features.transform(time_dummies_new_df[columns_to_scale_new])



scaled_new_data = expected_features.transform(time_dummies_new_df)



y_failed_pred_new = model_denied.predict(scaled_new_data)









new_dataset_features = time_dummies_new_df.columns


missing_features = set(expected_features) - set(new_dataset_features)


print(missing_features)
if missing_features:
    print("As seguintes features estão faltando no novo dataset:")
    print(missing_features)
else:
    print("O novo dataset contém todas as features esperadas.")


columns_to_scale_new = [col for col in time_dummies_new_df.columns if col != 'time']
scaler_new = StandardScaler().fit(time_dummies_new_df[columns_to_scale_new])
scaled_new_data = scaler_new.transform(time_dummies_new_df[columns_to_scale_new])


# Listar as features que o modelo espera
model_denied.feature_names_in_



y_denied_pred_new = model_denied.predict(scaled_new_data)
# y_failed_pred_new = model_failed.predict(scaled_new_data)



