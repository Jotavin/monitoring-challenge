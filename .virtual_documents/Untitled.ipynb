from flask import Flask, request, jsonify
import joblib
import pandas as pd
from sklearn.preprocessing import StandardScaler



model_failed = joblib.load('regression_model_failed.pkl')
model_denied = joblib.load('regression_model_denied.pkl')
model_reversed = joblib.load('regression_model_reversed.pkl')


app = Flask(__name__)


@app.route('/predict', methods=['POST'])
def predict():
    # Receber os dados da transação
    data = request.json

    # Transformar os dados em DataFrame para o pré-processamento
    transaction_df = pd.DataFrame([data])
    
    # Aplicar o mesmo pré-processamento que foi usado nos modelos (dummies, escalonamento, etc.)
    transaction_df_processed = preprocess(transaction_df)
    
    # Fazer previsões usando os modelos
    failed_pred = model_failed.predict(transaction_df_processed)
    denied_pred = model_denied.predict(transaction_df_processed)
    reversed_pred = model_reversed.predict(transaction_df_processed)
    
    # Verificar se as transações ultrapassam os limites normais
    alert = check_for_anomalies(failed_pred, denied_pred, reversed_pred)

    return jsonify({
        'failed_pred': failed_pred[0],
        'denied_pred': denied_pred[0],
        'reversed_pred': reversed_pred[0],
        'alert': alert
    })



def preprocess(transaction_df):
    # Fazer o pré-processamento (conversão de dummies, escalonamento, etc.)
    # Este deve ser o mesmo pré-processamento que você usou no treinamento dos modelos
    time_dummies_df = pd.get_dummies(transaction_df, columns=['time'])
    columns_to_scale = [col for col in time_dummies_df.columns if col != 'time']
    scaler = StandardScaler().fit(time_dummies_df[columns_to_scale])
    return scaler.transform(time_dummies_df[columns_to_scale])


def check_for_anomalies(failed_pred, denied_pred, reversed_pred):
    # Definir limites para alerta de anomalias
    failed_limit = 5  # Definir o limite "normal" para failed
    denied_limit = 5  # Definir o limite "normal" para denied
    reversed_limit = 5  # Definir o limite "normal" para reversed

    alert = False
    if failed_pred[0] > failed_limit:
        alert = True
    if denied_pred[0] > denied_limit:
        alert = True
    if reversed_pred[0] > reversed_limit:
        alert = True

    return alert
