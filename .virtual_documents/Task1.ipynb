





import pandas as pd
import numpy as np
import seaborn as sns
import matplotlib.pyplot as plt


checkout_1 = pd.read_csv('checkout_1.csv')
checkout_2 = pd.read_csv('checkout_2.csv')

# Display the first few rows of each file to understand their structure
checkout_1.head(), checkout_2.head()


checkout_1.info()


checkout_2.info()


# Check for missing and null values
missing_values_1 = checkout_1.isnull().sum()
duplicates_1 = checkout_1.duplicated().sum()

missing_values_1, duplicates_1


missing_values_2 = checkout_2.isnull().sum()
duplicates_2 = checkout_2.duplicated().sum()

missing_values_2, duplicates_2


def plot_trends(df, dataset_label):
    plt.figure(figsize=(12, 6))
    plt.plot(df['time'], df['today'], label='Today', marker='o')
    plt.plot(df['time'], df['yesterday'], label='Yesterday', marker='o')
    plt.plot(df['time'], df['same_day_last_week'], label='Same Day Last Week', marker='o')
    plt.plot(df['time'], df['avg_last_week'], label='Avg Last Week', marker='o')
    plt.plot(df['time'], df['avg_last_month'], label='Avg Last Month', marker='o')
    plt.title(f'Trends in {dataset_label}')
    plt.xlabel('Time')
    plt.ylabel('Events Count')
    plt.xticks(rotation=45)
    plt.legend()
    plt.grid(True)
    plt.show()


plot_trends(checkout_1, "Checkout 1")


plot_trends(checkout_2, "Checkout 2")


# Calculating the average of all variables except 'today'
checkout_1['mean_of_all'] = checkout_1[['yesterday', 'same_day_last_week', 'avg_last_week', 'avg_last_month']].mean(axis=1)
checkout_2['mean_of_all'] = checkout_2[['yesterday', 'same_day_last_week', 'avg_last_week', 'avg_last_month']].mean(axis=1)

# Plotting the graph to compare 'today' with the calculated average
fig, ax = plt.subplots(2, 1, figsize=(10, 10))

# Chart for checkout_1
ax[0].plot(checkout_1['time'], checkout_1['today'], label='Today', marker='o')
ax[0].plot(checkout_1['time'], checkout_1['mean_of_all'], label='Mean of All (Excl. Today)', marker='x')
ax[0].set_title('Checkout 1: Total de vendas hoje vs Média histórica')
ax[0].set_ylabel('Vendas')
ax[0].legend(loc='upper left')
ax[0].grid(True)

# Chart for checkout_2
ax[1].plot(checkout_2['time'], checkout_2['today'], label='Today', marker='o')
ax[1].plot(checkout_2['time'], checkout_2['mean_of_all'], label='Mean of All (Excl. Today)', marker='x')
ax[1].set_title('Checkout 2: Total de vendas hoje vs Média histórica')
ax[1].set_ylabel('Vendas')
ax[1].legend(loc='upper left')
ax[1].grid(True)

plt.tight_layout()
plt.show()

