import pandas as pd
import seaborn as sns
import matplotlib.pyplot as plt


sns.set_theme(style="darkgrid", palette = 'Set2')


data = pd.read_csv('checkout_1.csv')
data.columns





data.head(3)


data.info()


data.isna().sum()


data.duplicated().sum()








dados.head(3)


dados.groupby(['has_cbk'])['transaction_amount'].describe()



data.groupby(['yesterday'])['today'].describe()




