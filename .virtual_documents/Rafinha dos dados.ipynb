import numpy as np
import pandas as pd
import matplotlib.pyplot as plt


transaction1 = pd.read_csv('transactions_1.csv')
transaction1


transaction1.info()


transaction1.status.value_counts()


transaction_dummy = pd.get_dummies(transaction1, 'time')


transaction_dummy


transaction1


# Transformar o dataset, pivotando a tabela para manter todos os status
df_transformed = transaction1.pivot_table(index='time', columns='status', values='f0_', fill_value=0)

df_transformed


# Resetar o índice para criar uma estrutura de dataframe mais plana
df_transformed = df_transformed.reset_index()

df_transformed


# Salvar o dataset transformado em um novo arquivo CSV
df_transformed.to_csv('transformed_transactions.csv', index=False)

# Para visualizar o dataset
df_transformed


df_transformed.approved.value_counts()


df_transformed = pd.get_dummies(df_transformed, 'time')


df_transformed


df_transformed.to_csv('Pivoted_data.csv')


import plotly.express as px

# Criar gráfico interativo de linhas com Plotly
fig = px.line(df_transformed, x=df_transformed.index, y=status_columns, 
              labels={'value': 'Number of Transactions', 'index': 'Time Index'},
              title='Number of Transactions by Status Over Time')

# Mostrar o gráfico interativo
fig.show()



import pandas as pd
import plotly.express as px

# Supondo que as colunas de hora estejam no formato 'time_XXh YY'
# Precisamos identificar essas colunas e criar uma nova representação de tempo

# Filtrar colunas que contêm 'time' (que representam os minutos e horas)
time_columns = [col for col in df_transformed.columns if 'time_' in col]

# Criar uma nova coluna de tempo que combina os valores de todas as colunas de 'time'
# Para isso, vamos iterar sobre cada linha e encontrar a hora e minuto que são True
df_transformed['time'] = df_transformed[time_columns].idxmax(axis=1).str.replace('time_', '').str.replace('h ', ':')

# Agora podemos criar o gráfico interativo usando a nova coluna de 'time' como eixo X
fig = px.line(df_transformed, x='time', y=status_columns,
              labels={'time': 'Time', 'value': 'Number of Transactions'},
              title='Number of Transactions by Status Over Time')

# # Mostrar o gráfico interativo
fig.show()



from sklearn.ensemble import IsolationForest
import pandas as pd

# Selecionar as colunas de status como características para o modelo
status_columns = ['approved', 'denied', 'refunded', 'failed', 'processing', 'backend_reversed', 'reversed']

# Preparar os dados de status para treinar o modelo
X = df_transformed[status_columns]

# Inicializar o modelo Isolation Forest
model = IsolationForest(contamination=0.05, random_state=42)

# Treinar o modelo
model.fit(X)

# Prever anomalias (1 = normal, -1 = anomalia)
df_transformed['anomaly'] = model.predict(X)

# Visualizar os pontos classificados como anomalias
anomalies = df_transformed[df_transformed['anomaly'] == -1]




# Exibir as anomalias detectadas
anomalies
